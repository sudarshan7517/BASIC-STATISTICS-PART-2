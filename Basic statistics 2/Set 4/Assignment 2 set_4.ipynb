{
 "cells": [
  {
   "cell_type": "markdown",
   "id": "50cb3397",
   "metadata": {},
   "source": [
    "# Assignment 2:Set4 Q_3"
   ]
  },
  {
   "cell_type": "code",
   "execution_count": null,
   "id": "a12a9660",
   "metadata": {},
   "outputs": [],
   "source": [
    "3.Auditors at a small community bank randomly sample 100 withdrawal transactions made during the week at an ATM machine located \n",
    "near the bank’s main branch. Over the past 2 years, the average withdrawal amount has been $50 with a standard deviation of $40. \n",
    "Since audit investigations are typically expensive, the auditors decide to not initiate further investigations if the mean \n",
    "transaction amount of the sample is between $45 and $55. What is the probability that in any given week, there will be an\n",
    "investigation?\n",
    "\n",
    "A.1.25%\n",
    "B.2.5%\n",
    "C.10.55%\n",
    "D.21.1%\n",
    "E.50%\n"
   ]
  },
  {
   "cell_type": "code",
   "execution_count": 2,
   "id": "142fc655",
   "metadata": {},
   "outputs": [],
   "source": [
    "import numpy as np\n",
    "from scipy import stats\n",
    "from scipy.stats import norm"
   ]
  },
  {
   "cell_type": "markdown",
   "id": "8531243d",
   "metadata": {},
   "source": [
    "### n=100, Pop Mean=50, Pop SD=40 As no. of samples is more than 30, we can consider it normal distribution"
   ]
  },
  {
   "cell_type": "code",
   "execution_count": 3,
   "id": "ef8700bf",
   "metadata": {},
   "outputs": [],
   "source": [
    "# For No investigation P(45\n",
    "# For Investigation 1-P(45"
   ]
  },
  {
   "cell_type": "code",
   "execution_count": 6,
   "id": "095089b7",
   "metadata": {},
   "outputs": [
    {
     "data": {
      "text/plain": [
       "-1.25"
      ]
     },
     "execution_count": 6,
     "metadata": {},
     "output_type": "execute_result"
    }
   ],
   "source": [
    "# find z-scores at x=45; z=(s_mean-P_mean)/(p_SD/sqrt(n))\n",
    "z=(45-50)/(40/100**0.5)\n",
    "z"
   ]
  },
  {
   "cell_type": "code",
   "execution_count": 7,
   "id": "b85fce84",
   "metadata": {},
   "outputs": [
    {
     "data": {
      "text/plain": [
       "1.25"
      ]
     },
     "execution_count": 7,
     "metadata": {},
     "output_type": "execute_result"
    }
   ],
   "source": [
    "# find z-scores at x=55; z=(s_mean-P_mean)/(p_SD/sqrt(n))\n",
    "z=(55-50)/(40/100**0.5)\n",
    "z"
   ]
  },
  {
   "cell_type": "code",
   "execution_count": 8,
   "id": "857e0b28",
   "metadata": {},
   "outputs": [
    {
     "data": {
      "text/plain": [
       "0.7887004526662893"
      ]
     },
     "execution_count": 8,
     "metadata": {},
     "output_type": "execute_result"
    }
   ],
   "source": [
    "# For No investigation P(45\n",
    "stats.norm.cdf(1.25)-stats.norm.cdf(-1.25)"
   ]
  },
  {
   "cell_type": "code",
   "execution_count": 9,
   "id": "5ecda76d",
   "metadata": {},
   "outputs": [
    {
     "data": {
      "text/plain": [
       "(45.00000495667348, 54.99999504332652)"
      ]
     },
     "execution_count": 9,
     "metadata": {},
     "output_type": "execute_result"
    }
   ],
   "source": [
    "stats.norm.interval(0.7887,loc=50,scale=40/(100**0.5))"
   ]
  },
  {
   "cell_type": "code",
   "execution_count": 10,
   "id": "794140d2",
   "metadata": {},
   "outputs": [
    {
     "data": {
      "text/plain": [
       "0.21130000000000004"
      ]
     },
     "execution_count": 10,
     "metadata": {},
     "output_type": "execute_result"
    }
   ],
   "source": [
    "# For Investigation 1-P(45\n",
    "1-0.7887"
   ]
  },
  {
   "cell_type": "markdown",
   "id": "715c6928",
   "metadata": {},
   "source": [
    "### Answer is D. 21.1%"
   ]
  },
  {
   "cell_type": "code",
   "execution_count": null,
   "id": "62fed7e6",
   "metadata": {},
   "outputs": [],
   "source": []
  }
 ],
 "metadata": {
  "kernelspec": {
   "display_name": "Python 3 (ipykernel)",
   "language": "python",
   "name": "python3"
  },
  "language_info": {
   "codemirror_mode": {
    "name": "ipython",
    "version": 3
   },
   "file_extension": ".py",
   "mimetype": "text/x-python",
   "name": "python",
   "nbconvert_exporter": "python",
   "pygments_lexer": "ipython3",
   "version": "3.9.12"
  }
 },
 "nbformat": 4,
 "nbformat_minor": 5
}
